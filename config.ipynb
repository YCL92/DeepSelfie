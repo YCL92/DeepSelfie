{
 "cells": [
  {
   "cell_type": "markdown",
   "metadata": {},
   "source": [
    "# Network Configuration"
   ]
  },
  {
   "cell_type": "code",
   "execution_count": null,
   "metadata": {
    "code_folding": []
   },
   "outputs": [],
   "source": [
    "# camera parameters\n",
    "wb_stat = {\n",
    "    'slope': -0.933335,\n",
    "    'const': -1.249542,\n",
    "    'std': 0.063877,\n",
    "    'min': -1.020177,\n",
    "    'max': -0.042540\n",
    "}\n",
    "noise_stat = {\n",
    "    'slope': 2.385028,\n",
    "    'const': 4.055563,\n",
    "    'std': 0.100832,\n",
    "    'min': -8.373093,\n",
    "    'max': -7.049319\n",
    "}\n",
    "d65_wb = [2.408501, 1.000000, 1.499017, 1.000000]\n",
    "cam_matrix = [[1.4462, -0.8273, -0.1252], [-0.1818, 1.0996, 0.0918],\n",
    "              [0.0193, 0.044, 0.7474]]\n",
    "amp_range = (1, 20)\n",
    "\n",
    "# dataset paths\n",
    "r2r_path = '/home/lab/Documents/ssd/r2rSet'\n",
    "fivek_path = '/home/lab/Documents/ssd/fivekNight'\n",
    "\n",
    "\n",
    "class r2rNetConf():\n",
    "    data_root = r2r_path\n",
    "    save_root = None\n",
    "\n",
    "    # network parameters\n",
    "    r2r_size = 128  # input size for r2rNet\n",
    "    batch_size = 8\n",
    "    lr = 1e-4\n",
    "    lr_decay = 0.95\n",
    "    upd_freq = 20  # learning rate update frequency\n",
    "    max_epoch = 1500\n",
    "\n",
    "    # camera parameters\n",
    "    d65_wb = d65_wb\n",
    "    cam_matrix = cam_matrix\n",
    "\n",
    "    # other parameters\n",
    "    num_workers = 8\n",
    "    save_epoch = 1000  # epoch to be saved\n",
    "\n",
    "\n",
    "class mainConf():\n",
    "    data_root = fivek_path\n",
    "    save_root = None\n",
    "\n",
    "    # network parameters\n",
    "    att_size = (256, 192)  # input size for att module\n",
    "    isp_size = (640, 480)  # input size for isp module\n",
    "    batch_size = 4\n",
    "    lr = 1e-4\n",
    "\n",
    "    # camera parameters\n",
    "    wb_stat = wb_stat\n",
    "    noise_stat = noise_stat\n",
    "    amp_range = amp_range\n",
    "\n",
    "    # other parameters\n",
    "    num_workers = 8\n",
    "    plot_freq = 100  # plot frequency\n",
    "    save_freq = 2500  # save frequency\n",
    "\n",
    "\n",
    "class valConf():\n",
    "    data_root = fivek_path\n",
    "\n",
    "    # network parameters\n",
    "    att_size = (256, 192)\n",
    "    isp_size = (768, 576)\n",
    "\n",
    "    # camera parameters\n",
    "    wb_stat = wb_stat\n",
    "    noise_stat = noise_stat\n",
    "    amp_range = amp_range"
   ]
  }
 ],
 "metadata": {
  "kernelspec": {
   "display_name": "Python 3",
   "language": "python",
   "name": "python3"
  },
  "language_info": {
   "codemirror_mode": {
    "name": "ipython",
    "version": 3
   },
   "file_extension": ".py",
   "mimetype": "text/x-python",
   "name": "python",
   "nbconvert_exporter": "python",
   "pygments_lexer": "ipython3",
   "version": "3.8.3"
  },
  "toc": {
   "nav_menu": {},
   "number_sections": true,
   "sideBar": true,
   "skip_h1_title": true,
   "title_cell": "Table of Contents",
   "title_sidebar": "Contents",
   "toc_cell": false,
   "toc_position": {},
   "toc_section_display": true,
   "toc_window_display": false
  },
  "varInspector": {
   "cols": {
    "lenName": 16,
    "lenType": 16,
    "lenVar": 40
   },
   "kernels_config": {
    "python": {
     "delete_cmd_postfix": "",
     "delete_cmd_prefix": "del ",
     "library": "var_list.py",
     "varRefreshCmd": "print(var_dic_list())"
    },
    "r": {
     "delete_cmd_postfix": ") ",
     "delete_cmd_prefix": "rm(",
     "library": "var_list.r",
     "varRefreshCmd": "cat(var_dic_list()) "
    }
   },
   "types_to_exclude": [
    "module",
    "function",
    "builtin_function_or_method",
    "instance",
    "_Feature"
   ],
   "window_display": false
  }
 },
 "nbformat": 4,
 "nbformat_minor": 2
}
