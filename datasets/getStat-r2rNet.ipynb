{
 "cells": [
  {
   "cell_type": "markdown",
   "metadata": {},
   "source": [
    "# Dataset Statistical Analysis"
   ]
  },
  {
   "cell_type": "markdown",
   "metadata": {},
   "source": [
    "## Includes"
   ]
  },
  {
   "cell_type": "code",
   "execution_count": null,
   "metadata": {
    "code_folding": [
     0
    ]
   },
   "outputs": [],
   "source": [
    "# mass includes\n",
    "import os\n",
    "import pickle\n",
    "import pyexiv2 as exiv2\n",
    "import numpy as np\n",
    "import matplotlib.pyplot as plt\n",
    "from tqdm.notebook import tqdm\n",
    "from torch.utils import data"
   ]
  },
  {
   "cell_type": "markdown",
   "metadata": {},
   "source": [
    "## Initialization"
   ]
  },
  {
   "cell_type": "code",
   "execution_count": null,
   "metadata": {
    "code_folding": [
     0
    ]
   },
   "outputs": [],
   "source": [
    "# configuration\n",
    "data_root = '/home/lab/Documents/ssd//DJI'  # dataset path\n",
    "file_ext = '.DNG'  # extension of RAW file"
   ]
  },
  {
   "cell_type": "markdown",
   "metadata": {},
   "source": [
    "## Linear fit"
   ]
  },
  {
   "cell_type": "code",
   "execution_count": null,
   "metadata": {
    "code_folding": [
     1
    ]
   },
   "outputs": [],
   "source": [
    "# MLE algorithm\n",
    "def linearFit(sample_list):\n",
    "    data_x = sample_list[:, 0]\n",
    "    data_y = sample_list[:, 1]\n",
    "\n",
    "    # intermediate variables\n",
    "    x_mean = np.mean(data_x)\n",
    "    y_mean = np.mean(data_y)\n",
    "    lxx = np.sum((data_x - x_mean)**2)\n",
    "    lyy = np.sum((data_y - y_mean)**2)\n",
    "    lxy = np.sum((data_x - x_mean) * (data_y - y_mean))\n",
    "\n",
    "    # MLE\n",
    "    slope = lxy / lxx\n",
    "    const = y_mean - slope * x_mean\n",
    "    std = np.sqrt((lyy - slope * lxy) / (len(data_x) - 2))\n",
    "\n",
    "    return slope, const, std"
   ]
  },
  {
   "cell_type": "markdown",
   "metadata": {},
   "source": [
    "## Statistical analysis"
   ]
  },
  {
   "cell_type": "code",
   "execution_count": null,
   "metadata": {
    "code_folding": [
     0
    ]
   },
   "outputs": [],
   "source": [
    "# get file list\n",
    "file_list = [file for file in os.listdir(data_root) if file_ext in file]\n",
    "file_list.sort()\n",
    "\n",
    "wb_list = []\n",
    "noise_list = []\n",
    "for index, file in tqdm(enumerate(file_list),\n",
    "                        desc='progress',\n",
    "                        total=len(file_list)):\n",
    "    # load a new sample\n",
    "    img_md = exiv2.ImageMetadata(os.path.join(data_root, file))\n",
    "    img_md.read()\n",
    "\n",
    "    # extract metadata\n",
    "    cam_wb = img_md['Exif.Image.AsShotNeutral'].value\n",
    "    wb_list.append(np.array([cam_wb[0], cam_wb[2]], dtype=np.float32))\n",
    "    cam_noise = img_md['Exif.Image.NoiseProfile'].raw_value.split()\n",
    "    noise_list.append(np.array(cam_noise, dtype=np.float32))\n",
    "\n",
    "# compute slope,const, and std\n",
    "wb_list = np.log(np.array(wb_list))\n",
    "noise_list = np.log(np.array(noise_list))\n",
    "wb_s, wb_c, wb_std = linearFit(wb_list)\n",
    "noise_s, noise_c, noise_std = linearFit(noise_list)\n",
    "\n",
    "# print results\n",
    "print(\n",
    "    \"stat info for wb {'slope': %f, 'const': %f, 'std': %f, 'min': %f, 'max': %f}\"\n",
    "    % (wb_s, wb_c, wb_std, np.min(wb_list[:, 0]), np.max(wb_list[:, 0])))\n",
    "print(\n",
    "    \"stat info for noise {'slope': %f, 'const': %f, 'std': %f, 'min': %f, 'max': %f}\"\n",
    "    % (noise_s, noise_c, noise_std, np.min(\n",
    "        noise_list[:, 0]), np.max(noise_list[:, 0])))\n",
    "\n",
    "# plot resu\n",
    "fig1 = plt.figure()\n",
    "ax1 = fig1.add_subplot(2, 1, 1)\n",
    "ax1.plot(wb_list[:, 0], wb_list[:, 1], 'bo', markersize=3)\n",
    "plt.xlabel('$\\log(w_{r})$', fontsize=12)\n",
    "plt.ylabel('$\\log(w_{b})$', fontsize=12)\n",
    "plt.tight_layout()\n",
    "\n",
    "fig2 = plt.figure()\n",
    "ax2 = fig2.add_subplot(2, 1, 2)\n",
    "ax2.plot(noise_list[:, 0], noise_list[:, 1], 'bo', markersize=3)\n",
    "plt.xlabel('$\\log(\\lambda_{shot})$', fontsize=12)\n",
    "plt.ylabel('$\\log(\\lambda_{read})$', fontsize=12)\n",
    "plt.tight_layout()\n",
    "\n",
    "# save to figure if needed\n",
    "fig1.savefig('stat1.png', bbox_inches='tight')\n",
    "fig2.savefig('stat2.png', bbox_inches='tight')"
   ]
  }
 ],
 "metadata": {
  "kernelspec": {
   "display_name": "Python 3",
   "language": "python",
   "name": "python3"
  },
  "language_info": {
   "codemirror_mode": {
    "name": "ipython",
    "version": 3
   },
   "file_extension": ".py",
   "mimetype": "text/x-python",
   "name": "python",
   "nbconvert_exporter": "python",
   "pygments_lexer": "ipython3",
   "version": "3.8.3"
  }
 },
 "nbformat": 4,
 "nbformat_minor": 2
}
