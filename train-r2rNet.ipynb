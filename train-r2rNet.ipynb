{
 "cells": [
  {
   "cell_type": "markdown",
   "metadata": {},
   "source": [
    "# Network Training"
   ]
  },
  {
   "cell_type": "markdown",
   "metadata": {
    "heading_collapsed": true
   },
   "source": [
    "## Includes"
   ]
  },
  {
   "cell_type": "code",
   "execution_count": null,
   "metadata": {
    "code_folding": [
     0
    ],
    "hidden": true
   },
   "outputs": [],
   "source": [
    "# mass includes\n",
    "import os, sys, warnings\n",
    "import ipdb\n",
    "import torch as t\n",
    "import torchnet as tnt\n",
    "from tqdm.notebook import tqdm\n",
    "\n",
    "# add paths for all sub-folders\n",
    "paths = [root for root, dirs, files in os.walk('.')]\n",
    "for item in paths:\n",
    "    sys.path.append(item)\n",
    "\n",
    "from ipynb.fs.full.config import r2rNetConf\n",
    "from ipynb.fs.full.monitor import Visualizer\n",
    "from ipynb.fs.full.network import r2rNet\n",
    "from ipynb.fs.full.dataLoader import r2rSet\n",
    "from ipynb.fs.full.util import *"
   ]
  },
  {
   "cell_type": "markdown",
   "metadata": {
    "heading_collapsed": true
   },
   "source": [
    "## Initialization"
   ]
  },
  {
   "cell_type": "code",
   "execution_count": null,
   "metadata": {
    "code_folding": [
     0
    ],
    "hidden": true,
    "scrolled": true
   },
   "outputs": [],
   "source": [
    "# for debugging only\n",
    "%pdb off\n",
    "warnings.filterwarnings('ignore')\n",
    "\n",
    "# choose GPU if available\n",
    "os.environ[\"CUDA_DEVICE_ORDER\"] = \"PCI_BUS_ID\"\n",
    "os.environ[\"CUDA_VISIBLE_DEVICES\"] = '0'\n",
    "device = t.device('cuda' if t.cuda.is_available() else 'cpu')\n",
    "\n",
    "# define model\n",
    "opt = r2rNetConf()\n",
    "model = r2rNet().to(device)\n",
    "\n",
    "# load pre-trained model if necessary\n",
    "if opt.save_root:\n",
    "    last_epoch = model.load(opt.save_root)\n",
    "    last_epoch += opt.save_epoch\n",
    "else:\n",
    "    last_epoch = 0\n",
    "\n",
    "# dataloader for training\n",
    "train_dataset = r2rSet(opt, mode='train')\n",
    "train_loader = t.utils.data.DataLoader(train_dataset,\n",
    "                                       batch_size=opt.batch_size,\n",
    "                                       shuffle=True,\n",
    "                                       num_workers=opt.num_workers,\n",
    "                                       pin_memory=True)\n",
    "\n",
    "# dataloader for validation\n",
    "val_dataset = r2rSet(opt, mode='val')\n",
    "val_loader = t.utils.data.DataLoader(val_dataset)\n",
    "\n",
    "# optimizer\n",
    "last_lr = opt.lr * opt.lr_decay**(last_epoch // opt.upd_freq)\n",
    "optimizer = t.optim.Adam(model.parameters(), lr=last_lr)\n",
    "scheduler = t.optim.lr_scheduler.StepLR(optimizer,\n",
    "                                        step_size=opt.upd_freq,\n",
    "                                        gamma=opt.lr_decay)\n",
    "\n",
    "# visualizer\n",
    "vis = Visualizer(env='r2rNet', port=8686)\n",
    "loss_meter = tnt.meter.AverageValueMeter()"
   ]
  },
  {
   "cell_type": "markdown",
   "metadata": {},
   "source": [
    "## Validation"
   ]
  },
  {
   "cell_type": "code",
   "execution_count": null,
   "metadata": {
    "code_folding": [
     0
    ]
   },
   "outputs": [],
   "source": [
    "def validate():\n",
    "    # set to evaluation mode\n",
    "    model.eval()\n",
    "\n",
    "    psnr = 0.0\n",
    "    for (raw_patch, srgb_patch, cam_wb) in val_loader:\n",
    "        with t.no_grad():\n",
    "            # copy to device\n",
    "            raw_patch = raw_patch.to(device)\n",
    "            srgb_patch = srgb_patch.to(device)\n",
    "            rggb_patch = toRGGB(srgb_patch)\n",
    "            cam_wb = cam_wb.to(device)\n",
    "\n",
    "            # inference\n",
    "            pred_patch = model(rggb_patch, cam_wb)\n",
    "            pred_patch = t.clamp(pred_patch, 0.0, 1.0)\n",
    "\n",
    "            # compute psnr\n",
    "            mse = t.mean((pred_patch - raw_patch)**2)\n",
    "            psnr += 10 * t.log10(1 / mse)\n",
    "    psnr /= len(val_loader)\n",
    "\n",
    "    # set to training mode\n",
    "    model.train(mode=True)\n",
    "\n",
    "    return psnr"
   ]
  },
  {
   "cell_type": "markdown",
   "metadata": {},
   "source": [
    "## Training entry"
   ]
  },
  {
   "cell_type": "code",
   "execution_count": null,
   "metadata": {
    "code_folding": [
     0
    ],
    "scrolled": true
   },
   "outputs": [],
   "source": [
    "for epoch in tqdm(range(last_epoch, opt.max_epoch),\n",
    "                  desc='epoch',\n",
    "                  total=opt.max_epoch - last_epoch):\n",
    "    # reset meter and update learning rate\n",
    "    loss_meter.reset()\n",
    "    scheduler.step()\n",
    "\n",
    "    for (raw_patch, srgb_patch, cam_wb) in train_loader:\n",
    "        # reset gradient\n",
    "        optimizer.zero_grad()\n",
    "\n",
    "        # copy to device\n",
    "        raw_patch = raw_patch.to(device)\n",
    "        srgb_patch = srgb_patch.to(device)\n",
    "        rggb_patch = toRGGB(srgb_patch)\n",
    "        cam_wb = cam_wb.to(device)\n",
    "\n",
    "        # inference\n",
    "        pred_patch = model(rggb_patch, cam_wb)\n",
    "\n",
    "        # compute loss\n",
    "        loss = t.mean(t.abs(pred_patch - raw_patch))\n",
    "\n",
    "        # backpropagation\n",
    "        loss.backward()\n",
    "        optimizer.step()\n",
    "\n",
    "        # add to loss meter for logging\n",
    "        loss_meter.add(loss.item())\n",
    "\n",
    "    # show training status\n",
    "    vis.plot('loss', loss_meter.value()[0])\n",
    "    gt_img = raw2Img(raw_patch[0, :, :, :],\n",
    "                     wb=opt.d65_wb,\n",
    "                     cam_matrix=opt.cam_matrix)\n",
    "    pred_img = raw2Img(pred_patch[0, :, :, :],\n",
    "                       wb=opt.d65_wb,\n",
    "                       cam_matrix=opt.cam_matrix)\n",
    "    vis.img('gt/pred/mask', t.cat([gt_img, pred_img], dim=2).cpu() * 255)\n",
    "\n",
    "    # save model and do validation\n",
    "    if (epoch + 1) > opt.save_epoch or (epoch + 1) % 50 == 0:\n",
    "        model.save()\n",
    "        psnr = validate()\n",
    "        vis.log('epoch: %d, psnr: %.2f' % (epoch, psnr))"
   ]
  }
 ],
 "metadata": {
  "kernelspec": {
   "display_name": "Python 3",
   "language": "python",
   "name": "python3"
  },
  "language_info": {
   "codemirror_mode": {
    "name": "ipython",
    "version": 3
   },
   "file_extension": ".py",
   "mimetype": "text/x-python",
   "name": "python",
   "nbconvert_exporter": "python",
   "pygments_lexer": "ipython3",
   "version": "3.8.3"
  },
  "toc": {
   "nav_menu": {},
   "number_sections": true,
   "sideBar": true,
   "skip_h1_title": true,
   "title_cell": "Table of Contents",
   "title_sidebar": "Contents",
   "toc_cell": false,
   "toc_position": {},
   "toc_section_display": true,
   "toc_window_display": false
  },
  "varInspector": {
   "cols": {
    "lenName": 16,
    "lenType": 16,
    "lenVar": 40
   },
   "kernels_config": {
    "python": {
     "delete_cmd_postfix": "",
     "delete_cmd_prefix": "del ",
     "library": "var_list.py",
     "varRefreshCmd": "print(var_dic_list())"
    },
    "r": {
     "delete_cmd_postfix": ") ",
     "delete_cmd_prefix": "rm(",
     "library": "var_list.r",
     "varRefreshCmd": "cat(var_dic_list()) "
    }
   },
   "types_to_exclude": [
    "module",
    "function",
    "builtin_function_or_method",
    "instance",
    "_Feature"
   ],
   "window_display": false
  }
 },
 "nbformat": 4,
 "nbformat_minor": 2
}
