{
 "cells": [
  {
   "cell_type": "markdown",
   "metadata": {},
   "source": [
    "# Generate Validation Set"
   ]
  },
  {
   "cell_type": "markdown",
   "metadata": {
    "heading_collapsed": true
   },
   "source": [
    "## Includes"
   ]
  },
  {
   "cell_type": "code",
   "execution_count": null,
   "metadata": {
    "code_folding": [
     0
    ],
    "hidden": true
   },
   "outputs": [],
   "source": [
    "# mass includes\n",
    "import os, sys, warnings\n",
    "import ipdb\n",
    "import pickle\n",
    "import torch as t\n",
    "import torchvision as tv\n",
    "from tqdm.notebook import tqdm\n",
    "\n",
    "# add paths for all sub-folders\n",
    "paths = [root for root, dirs, files in os.walk('.')]\n",
    "for item in paths:\n",
    "    sys.path.append(item)\n",
    "\n",
    "from ipynb.fs.full.config import valConf\n",
    "from ipynb.fs.full.monitor import Visualizer\n",
    "from ipynb.fs.full.network import r2rNet\n",
    "from ipynb.fs.full.dataLoader import fivekNight\n",
    "from ipynb.fs.full.util import *"
   ]
  },
  {
   "cell_type": "markdown",
   "metadata": {
    "heading_collapsed": true
   },
   "source": [
    "## Initialization"
   ]
  },
  {
   "cell_type": "code",
   "execution_count": null,
   "metadata": {
    "code_folding": [
     0
    ],
    "hidden": true
   },
   "outputs": [],
   "source": [
    "# for debugging only\n",
    "%pdb off\n",
    "warnings.filterwarnings('ignore')\n",
    "\n",
    "# choose GPU if available\n",
    "os.environ[\"CUDA_DEVICE_ORDER\"] = \"PCI_BUS_ID\"\n",
    "os.environ[\"CUDA_VISIBLE_DEVICES\"] = '0'\n",
    "device = t.device('cuda' if t.cuda.is_available() else 'cpu')\n",
    "\n",
    "# define model\n",
    "opt = valConf()\n",
    "converter = r2rNet().to(device)\n",
    "converter.load('./saves')\n",
    "converter.eval()\n",
    "\n",
    "# dataloader for training\n",
    "val_dataset = fivekNight(opt)\n",
    "val_loader = t.utils.data.DataLoader(val_dataset, shuffle=True)"
   ]
  },
  {
   "cell_type": "markdown",
   "metadata": {},
   "source": [
    "## Training entry"
   ]
  },
  {
   "cell_type": "code",
   "execution_count": null,
   "metadata": {
    "code_folding": [
     0
    ]
   },
   "outputs": [],
   "source": [
    "# make new folder\n",
    "save_path = os.path.join(opt.data_root, 'val%d' % opt.amp_range[1])\n",
    "if not os.path.exists(save_path):\n",
    "    os.makedirs(save_path)\n",
    "\n",
    "for index, (syth_img, syth_mask) in tqdm(enumerate(val_loader), total=50):\n",
    "    # copy to device\n",
    "    syth_img = syth_img.to(device)\n",
    "    syth_mask = syth_mask.to(device)\n",
    "\n",
    "    # convert to training samples\n",
    "    thumb_img, struct_img, seg_mask, amp, noisy_raw, sorted_mask, wb = toRaw(\n",
    "        converter, syth_img, syth_mask, opt)\n",
    "\n",
    "    # save to files\n",
    "    file_path = os.path.join(save_path, 'img%04d.jpg' % (index))\n",
    "    data_dict = {}\n",
    "    data_dict['syth_img'] = syth_img.squeeze().cpu()\n",
    "    data_dict['thumb_img'] = thumb_img.squeeze().cpu()\n",
    "    data_dict['struct_img'] = struct_img.squeeze().cpu()\n",
    "    data_dict['seg_mask'] = seg_mask.squeeze().cpu()\n",
    "    data_dict['amp'] = amp.squeeze().cpu()\n",
    "    data_dict['noisy_raw'] = noisy_raw.squeeze().cpu()\n",
    "    data_dict['sorted_mask'] = sorted_mask.squeeze().cpu()\n",
    "    data_dict['wb'] = wb.squeeze().cpu()\n",
    "    with open(file_path.replace('jpg', 'pkl'), 'wb') as pkl_file:\n",
    "        pickle.dump(data_dict, pkl_file)\n",
    "    tv.utils.save_image(syth_img.squeeze(), file_path)\n",
    "\n",
    "    if index >= 50:\n",
    "        break"
   ]
  }
 ],
 "metadata": {
  "kernelspec": {
   "display_name": "Python 3",
   "language": "python",
   "name": "python3"
  },
  "language_info": {
   "codemirror_mode": {
    "name": "ipython",
    "version": 3
   },
   "file_extension": ".py",
   "mimetype": "text/x-python",
   "name": "python",
   "nbconvert_exporter": "python",
   "pygments_lexer": "ipython3",
   "version": "3.8.3"
  },
  "toc": {
   "nav_menu": {},
   "number_sections": true,
   "sideBar": true,
   "skip_h1_title": true,
   "title_cell": "Table of Contents",
   "title_sidebar": "Contents",
   "toc_cell": false,
   "toc_position": {},
   "toc_section_display": true,
   "toc_window_display": false
  },
  "varInspector": {
   "cols": {
    "lenName": 16,
    "lenType": 16,
    "lenVar": 40
   },
   "kernels_config": {
    "python": {
     "delete_cmd_postfix": "",
     "delete_cmd_prefix": "del ",
     "library": "var_list.py",
     "varRefreshCmd": "print(var_dic_list())"
    },
    "r": {
     "delete_cmd_postfix": ") ",
     "delete_cmd_prefix": "rm(",
     "library": "var_list.r",
     "varRefreshCmd": "cat(var_dic_list()) "
    }
   },
   "types_to_exclude": [
    "module",
    "function",
    "builtin_function_or_method",
    "instance",
    "_Feature"
   ],
   "window_display": false
  }
 },
 "nbformat": 4,
 "nbformat_minor": 2
}
